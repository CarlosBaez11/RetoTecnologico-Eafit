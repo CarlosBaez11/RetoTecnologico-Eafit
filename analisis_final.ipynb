{
 "cells": [
  {
   "cell_type": "code",
   "execution_count": 50,
   "metadata": {},
   "outputs": [],
   "source": [
    "import pandas as pd\n",
    "import seaborn as sns\n",
    "import numpy as np"
   ]
  },
  {
   "cell_type": "code",
   "execution_count": 41,
   "metadata": {},
   "outputs": [],
   "source": [
    "data=pd.read_excel(\"Caso 01 - Cobranza Sector Financiero.xlsx\")"
   ]
  },
  {
   "cell_type": "code",
   "execution_count": 42,
   "metadata": {},
   "outputs": [],
   "source": [
    "data.drop(columns=[\"Nombres\", \"Numero Documento\", \"Sector Economico\"], inplace=True)"
   ]
  },
  {
   "cell_type": "markdown",
   "metadata": {},
   "source": [
    "En esta oarte vamos a hacer un análisis de la distribución de los datos Basados en el rango de endeudamiento de las personas. En la tabla de abajo podmeos ver que la mayoría del dataset **Aproximadamente el 51% de los datos** está en el rango de endeudamiento de entre 1 a 15 millones de pesos"
   ]
  },
  {
   "cell_type": "code",
   "execution_count": 49,
   "metadata": {},
   "outputs": [
    {
     "data": {
      "text/html": [
       "<div>\n",
       "<style scoped>\n",
       "    .dataframe tbody tr th:only-of-type {\n",
       "        vertical-align: middle;\n",
       "    }\n",
       "\n",
       "    .dataframe tbody tr th {\n",
       "        vertical-align: top;\n",
       "    }\n",
       "\n",
       "    .dataframe thead th {\n",
       "        text-align: right;\n",
       "    }\n",
       "</style>\n",
       "<table border=\"1\" class=\"dataframe\">\n",
       "  <thead>\n",
       "    <tr style=\"text-align: right;\">\n",
       "      <th>PRODUCTO</th>\n",
       "      <th>CH PROPIA</th>\n",
       "      <th>CH TITU</th>\n",
       "      <th>CONSUMO</th>\n",
       "      <th>MASIVO SUFI</th>\n",
       "      <th>TARJETAS DE CREDITO</th>\n",
       "      <th>VEHICULOS SUFI</th>\n",
       "      <th>All</th>\n",
       "    </tr>\n",
       "    <tr>\n",
       "      <th>Rango endeudamiento</th>\n",
       "      <th></th>\n",
       "      <th></th>\n",
       "      <th></th>\n",
       "      <th></th>\n",
       "      <th></th>\n",
       "      <th></th>\n",
       "      <th></th>\n",
       "    </tr>\n",
       "  </thead>\n",
       "  <tbody>\n",
       "    <tr>\n",
       "      <th>1 a 15</th>\n",
       "      <td>0.029755</td>\n",
       "      <td>0.000135</td>\n",
       "      <td>0.115212</td>\n",
       "      <td>0.024646</td>\n",
       "      <td>0.316038</td>\n",
       "      <td>0.027284</td>\n",
       "      <td>0.513070</td>\n",
       "    </tr>\n",
       "    <tr>\n",
       "      <th>100 a 200</th>\n",
       "      <td>0.003357</td>\n",
       "      <td>0.000168</td>\n",
       "      <td>0.003346</td>\n",
       "      <td>0.000022</td>\n",
       "      <td>0.002504</td>\n",
       "      <td>0.000921</td>\n",
       "      <td>0.010319</td>\n",
       "    </tr>\n",
       "    <tr>\n",
       "      <th>15 a 50</th>\n",
       "      <td>0.049887</td>\n",
       "      <td>0.000674</td>\n",
       "      <td>0.067605</td>\n",
       "      <td>0.003279</td>\n",
       "      <td>0.060149</td>\n",
       "      <td>0.033325</td>\n",
       "      <td>0.214918</td>\n",
       "    </tr>\n",
       "    <tr>\n",
       "      <th>50 a 100</th>\n",
       "      <td>0.014125</td>\n",
       "      <td>0.000550</td>\n",
       "      <td>0.019234</td>\n",
       "      <td>0.000180</td>\n",
       "      <td>0.010813</td>\n",
       "      <td>0.003840</td>\n",
       "      <td>0.048741</td>\n",
       "    </tr>\n",
       "    <tr>\n",
       "      <th>&lt;1M</th>\n",
       "      <td>0.000303</td>\n",
       "      <td>0.000000</td>\n",
       "      <td>0.013463</td>\n",
       "      <td>0.004907</td>\n",
       "      <td>0.192338</td>\n",
       "      <td>0.001235</td>\n",
       "      <td>0.212245</td>\n",
       "    </tr>\n",
       "    <tr>\n",
       "      <th>&gt;200</th>\n",
       "      <td>0.000483</td>\n",
       "      <td>0.000045</td>\n",
       "      <td>0.001482</td>\n",
       "      <td>0.000000</td>\n",
       "      <td>0.000494</td>\n",
       "      <td>0.000281</td>\n",
       "      <td>0.002785</td>\n",
       "    </tr>\n",
       "    <tr>\n",
       "      <th>All</th>\n",
       "      <td>0.097909</td>\n",
       "      <td>0.001572</td>\n",
       "      <td>0.220341</td>\n",
       "      <td>0.033033</td>\n",
       "      <td>0.582336</td>\n",
       "      <td>0.066886</td>\n",
       "      <td>1.002077</td>\n",
       "    </tr>\n",
       "  </tbody>\n",
       "</table>\n",
       "</div>"
      ],
      "text/plain": [
       "PRODUCTO             CH PROPIA   CH TITU   CONSUMO  MASIVO SUFI  \\\n",
       "Rango endeudamiento                                               \n",
       "1 a 15                0.029755  0.000135  0.115212     0.024646   \n",
       "100 a 200             0.003357  0.000168  0.003346     0.000022   \n",
       "15 a 50               0.049887  0.000674  0.067605     0.003279   \n",
       "50 a 100              0.014125  0.000550  0.019234     0.000180   \n",
       "<1M                   0.000303  0.000000  0.013463     0.004907   \n",
       ">200                  0.000483  0.000045  0.001482     0.000000   \n",
       "All                   0.097909  0.001572  0.220341     0.033033   \n",
       "\n",
       "PRODUCTO             TARJETAS DE CREDITO  VEHICULOS SUFI       All  \n",
       "Rango endeudamiento                                                 \n",
       "1 a 15                          0.316038        0.027284  0.513070  \n",
       "100 a 200                       0.002504        0.000921  0.010319  \n",
       "15 a 50                         0.060149        0.033325  0.214918  \n",
       "50 a 100                        0.010813        0.003840  0.048741  \n",
       "<1M                             0.192338        0.001235  0.212245  \n",
       ">200                            0.000494        0.000281  0.002785  \n",
       "All                             0.582336        0.066886  1.002077  "
      ]
     },
     "execution_count": 49,
     "metadata": {},
     "output_type": "execute_result"
    }
   ],
   "source": [
    "pd.crosstab(data['Rango endeudamiento'], data[\"PRODUCTO\"], margins=True)/89062"
   ]
  },
  {
   "cell_type": "markdown",
   "metadata": {},
   "source": [
    "Ahora veamos cual es el monto de dinero en deuda con relación al rango de endeudamiento.\n",
    "En la tabla de abajo podemos observar que la mayor parte del dinero en mora está"
   ]
  },
  {
   "cell_type": "code",
   "execution_count": 97,
   "metadata": {},
   "outputs": [
    {
     "name": "stderr",
     "output_type": "stream",
     "text": [
      "/home/carlos/.local/lib/python3.10/site-packages/seaborn/_oldcore.py:1498: FutureWarning: is_categorical_dtype is deprecated and will be removed in a future version. Use isinstance(dtype, CategoricalDtype) instead\n",
      "  if pd.api.types.is_categorical_dtype(vector):\n",
      "/home/carlos/.local/lib/python3.10/site-packages/seaborn/_oldcore.py:1498: FutureWarning: is_categorical_dtype is deprecated and will be removed in a future version. Use isinstance(dtype, CategoricalDtype) instead\n",
      "  if pd.api.types.is_categorical_dtype(vector):\n",
      "/home/carlos/.local/lib/python3.10/site-packages/seaborn/_oldcore.py:1498: FutureWarning: is_categorical_dtype is deprecated and will be removed in a future version. Use isinstance(dtype, CategoricalDtype) instead\n",
      "  if pd.api.types.is_categorical_dtype(vector):\n",
      "/home/carlos/.local/lib/python3.10/site-packages/seaborn/_oldcore.py:1498: FutureWarning: is_categorical_dtype is deprecated and will be removed in a future version. Use isinstance(dtype, CategoricalDtype) instead\n",
      "  if pd.api.types.is_categorical_dtype(vector):\n"
     ]
    },
    {
     "data": {
      "text/plain": [
       "<Axes: xlabel='Rango endeudamiento', ylabel='Endeudamiento'>"
      ]
     },
     "execution_count": 97,
     "metadata": {},
     "output_type": "execute_result"
    },
    {
     "data": {
      "image/png": "[encoded data removed]",
      "text/plain": [
       "<Figure size 640x480 with 1 Axes>"
      ]
     },
     "metadata": {},
     "output_type": "display_data"
    }
   ],
   "source": [
    "endeudamiento_cuadrante=data.groupby([\"Rango endeudamiento\", \"PRODUCTO\"]).aggregate({\"PRODUCTO\":\"count\", \"Endeudamiento\":\"sum\"})\n",
    "endeudamiento_cuadrante.rename(columns=({\"PRODUCTO\":\"Conteo Productos\"}), inplace=True)\n",
    "endeudamiento_cuadrante.reset_index(inplace=True)\n",
    "sns.barplot(endeudamiento_cuadrante, x=\"Rango endeudamiento\", y=\"Endeudamiento\", hue=\"PRODUCTO\")"
   ]
  },
  {
   "cell_type": "code",
   "execution_count": null,
   "metadata": {},
   "outputs": [],
   "source": []
  }
 ],
 "metadata": {
  "kernelspec": {
   "display_name": "Python 3",
   "language": "python",
   "name": "python3"
  },
  "language_info": {
   "codemirror_mode": {
    "name": "ipython",
    "version": 3
   },
   "file_extension": ".py",
   "mimetype": "text/x-python",
   "name": "python",
   "nbconvert_exporter": "python",
   "pygments_lexer": "ipython3",
   "version": "3.10.12"
  }
 },
 "nbformat": 4,
 "nbformat_minor": 2
}
